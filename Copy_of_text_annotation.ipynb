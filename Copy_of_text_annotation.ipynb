{
  "nbformat": 4,
  "nbformat_minor": 0,
  "metadata": {
    "colab": {
      "provenance": []
    },
    "kernelspec": {
      "name": "python3",
      "display_name": "Python 3"
    },
    "language_info": {
      "name": "python"
    },
    "accelerator": "GPU",
    "gpuClass": "standard"
  },
  "cells": [
    {
      "cell_type": "code",
      "execution_count": null,
      "metadata": {
        "id": "KTbVCD8vlk2Y"
      },
      "outputs": [],
      "source": [
        "! pip install -U spacy -q "
      ]
    },
    {
      "cell_type": "code",
      "source": [
        "!python -m spacy info"
      ],
      "metadata": {
        "colab": {
          "base_uri": "https://localhost:8080/"
        },
        "id": "cOjoe9eYlvym",
        "outputId": "b69c7e0f-c2ff-4721-f33e-f06c334a4cdf"
      },
      "execution_count": null,
      "outputs": [
        {
          "output_type": "stream",
          "name": "stdout",
          "text": [
            "/usr/local/lib/python3.9/dist-packages/torch/cuda/__init__.py:497: UserWarning: Can't initialize NVML\n",
            "  warnings.warn(\"Can't initialize NVML\")\n",
            "2023-04-01 01:49:41.212945: W tensorflow/compiler/tf2tensorrt/utils/py_utils.cc:38] TF-TRT Warning: Could not find TensorRT\n",
            "2023-04-01 01:49:43.172961: E tensorflow/compiler/xla/stream_executor/cuda/cuda_driver.cc:266] failed call to cuInit: CUDA_ERROR_NO_DEVICE: no CUDA-capable device is detected\n",
            "\u001b[1m\n",
            "============================== Info about spaCy ==============================\u001b[0m\n",
            "\n",
            "spaCy version    3.5.1                         \n",
            "Location         /usr/local/lib/python3.9/dist-packages/spacy\n",
            "Platform         Linux-5.10.147+-x86_64-with-glibc2.31\n",
            "Python version   3.9.16                        \n",
            "Pipelines        en_core_web_sm (3.5.0)        \n",
            "\n"
          ]
        }
      ]
    },
    {
      "cell_type": "code",
      "source": [
        "import spacy\n",
        "from spacy.tokens import DocBin\n",
        "from tqdm import tqdm\n",
        "\n",
        "nlp = spacy.blank(\"en\") # load a new spacy model\n",
        "db = DocBin() # create a DocBin object"
      ],
      "metadata": {
        "id": "36xHiLq8lv3p"
      },
      "execution_count": null,
      "outputs": []
    },
    {
      "cell_type": "code",
      "source": [
        "import json\n",
        "f = open('/content/crop_annotation.json')\n",
        "TRAIN_DATA = json.load(f)"
      ],
      "metadata": {
        "id": "ATEaDQrvlv5W"
      },
      "execution_count": null,
      "outputs": []
    },
    {
      "cell_type": "code",
      "source": [
        "for text, annot in tqdm(TRAIN_DATA['annotations']): \n",
        "    doc = nlp.make_doc(text) \n",
        "    ents = []\n",
        "    for start, end, label in annot[\"entities\"]:\n",
        "        span = doc.char_span(start, end, label=label, alignment_mode=\"contract\")\n",
        "        if span is None:\n",
        "            print(\"Skipping entity\")\n",
        "        else:\n",
        "            ents.append(span)\n",
        "    doc.ents = ents \n",
        "    db.add(doc)\n",
        "\n",
        "db.to_disk(\"./training_data.spacy\") # save the docbin object"
      ],
      "metadata": {
        "colab": {
          "base_uri": "https://localhost:8080/"
        },
        "id": "iguu2MNxlv8x",
        "outputId": "886fdc40-95aa-43c5-d898-daf8e37e2b27"
      },
      "execution_count": null,
      "outputs": [
        {
          "output_type": "stream",
          "name": "stderr",
          "text": [
            "100%|██████████| 20/20 [00:00<00:00, 1039.58it/s]"
          ]
        },
        {
          "output_type": "stream",
          "name": "stdout",
          "text": [
            "Skipping entity\n",
            "Skipping entity\n",
            "Skipping entity\n"
          ]
        },
        {
          "output_type": "stream",
          "name": "stderr",
          "text": [
            "\n"
          ]
        }
      ]
    },
    {
      "cell_type": "code",
      "source": [
        "! python -m spacy init config config.cfg --lang en --pipeline ner --optimize efficiency"
      ],
      "metadata": {
        "colab": {
          "base_uri": "https://localhost:8080/"
        },
        "id": "s3SKK46jlv-R",
        "outputId": "d26b0895-11e0-472c-ca3f-f613e1ccf865"
      },
      "execution_count": null,
      "outputs": [
        {
          "output_type": "stream",
          "name": "stdout",
          "text": [
            "/usr/local/lib/python3.9/dist-packages/torch/cuda/__init__.py:497: UserWarning: Can't initialize NVML\n",
            "  warnings.warn(\"Can't initialize NVML\")\n",
            "2023-04-01 01:49:49.132132: W tensorflow/compiler/tf2tensorrt/utils/py_utils.cc:38] TF-TRT Warning: Could not find TensorRT\n",
            "2023-04-01 01:49:51.598888: E tensorflow/compiler/xla/stream_executor/cuda/cuda_driver.cc:266] failed call to cuInit: CUDA_ERROR_NO_DEVICE: no CUDA-capable device is detected\n",
            "\n",
            "\u001b[38;5;1m✘ The provided output file already exists. To force overwriting the\n",
            "config file, set the --force or -F flag.\u001b[0m\n",
            "\n"
          ]
        }
      ]
    },
    {
      "cell_type": "code",
      "source": [
        "! python -m spacy train config.cfg --output ./ --paths.train ./training_data.spacy --paths.dev ./training_data.spacy"
      ],
      "metadata": {
        "colab": {
          "base_uri": "https://localhost:8080/"
        },
        "id": "TPjkl4bKlwB2",
        "outputId": "c8e7a161-cc60-4691-ea5a-52fa0a783fe6"
      },
      "execution_count": null,
      "outputs": [
        {
          "output_type": "stream",
          "name": "stdout",
          "text": [
            "/usr/local/lib/python3.9/dist-packages/torch/cuda/__init__.py:497: UserWarning: Can't initialize NVML\n",
            "  warnings.warn(\"Can't initialize NVML\")\n",
            "2023-04-01 01:49:58.665063: W tensorflow/compiler/tf2tensorrt/utils/py_utils.cc:38] TF-TRT Warning: Could not find TensorRT\n",
            "2023-04-01 01:50:00.482695: E tensorflow/compiler/xla/stream_executor/cuda/cuda_driver.cc:266] failed call to cuInit: CUDA_ERROR_NO_DEVICE: no CUDA-capable device is detected\n",
            "\u001b[38;5;4mℹ Saving to output directory: .\u001b[0m\n",
            "\u001b[38;5;4mℹ Using CPU\u001b[0m\n",
            "\u001b[1m\n",
            "=========================== Initializing pipeline ===========================\u001b[0m\n",
            "[2023-04-01 01:50:01,549] [INFO] Set up nlp object from config\n",
            "[2023-04-01 01:50:01,569] [INFO] Pipeline: ['tok2vec', 'ner']\n",
            "[2023-04-01 01:50:01,577] [INFO] Created vocabulary\n",
            "[2023-04-01 01:50:01,578] [INFO] Finished initializing nlp object\n",
            "[2023-04-01 01:50:01,774] [INFO] Initialized pipeline components: ['tok2vec', 'ner']\n",
            "\u001b[38;5;2m✔ Initialized pipeline\u001b[0m\n",
            "\u001b[1m\n",
            "============================= Training pipeline =============================\u001b[0m\n",
            "\u001b[38;5;4mℹ Pipeline: ['tok2vec', 'ner']\u001b[0m\n",
            "\u001b[38;5;4mℹ Initial learn rate: 0.001\u001b[0m\n",
            "E    #       LOSS TOK2VEC  LOSS NER  ENTS_F  ENTS_P  ENTS_R  SCORE \n",
            "---  ------  ------------  --------  ------  ------  ------  ------\n",
            "  0       0          0.00     26.40    0.00    0.00    0.00    0.00\n",
            " 62     200        356.60   2147.85  100.00  100.00  100.00    1.00\n",
            "140     400          0.00      0.00  100.00  100.00  100.00    1.00\n",
            "240     600          0.00      0.00  100.00  100.00  100.00    1.00\n",
            "340     800          0.00      0.00  100.00  100.00  100.00    1.00\n",
            "500    1000          0.00      0.00  100.00  100.00  100.00    1.00\n",
            "700    1200          0.00      0.00  100.00  100.00  100.00    1.00\n",
            "900    1400          0.00      0.00  100.00  100.00  100.00    1.00\n",
            "1100    1600          0.00      0.00  100.00  100.00  100.00    1.00\n",
            "1300    1800          0.00      0.00  100.00  100.00  100.00    1.00\n",
            "\u001b[38;5;2m✔ Saved pipeline to output directory\u001b[0m\n",
            "model-last\n"
          ]
        }
      ]
    },
    {
      "cell_type": "code",
      "source": [
        "nlp_ner = spacy.load(\"/content/model-best\") "
      ],
      "metadata": {
        "id": "ZBEbHu9LncPk"
      },
      "execution_count": null,
      "outputs": []
    },
    {
      "cell_type": "code",
      "source": [
        "doc = nlp_ner('''The proportion of the crop cycle that takes place in one year The average actual annual yield taking into account the Energy or number of chews necessary to chew the banana to make it ready to be swallowed Aroma of fresh grass Elemental flavor caused by dilute aqueous solutions of various substances such as sucrose or aspartame Uniformity of color of the surface of the sample''')"
      ],
      "metadata": {
        "id": "8ArYficKncQr"
      },
      "execution_count": null,
      "outputs": []
    },
    {
      "cell_type": "code",
      "source": [
        "from spacy import displacy\n",
        "spacy.displacy.render(doc, style=\"ent\", jupyter=True) "
      ],
      "metadata": {
        "colab": {
          "base_uri": "https://localhost:8080/",
          "height": 157
        },
        "id": "PzqD-jFKncTj",
        "outputId": "5b4eaf47-883d-41cd-a852-1dbef07ad55d"
      },
      "execution_count": null,
      "outputs": [
        {
          "output_type": "display_data",
          "data": {
            "text/plain": [
              "<IPython.core.display.HTML object>"
            ],
            "text/html": [
              "<span class=\"tex2jax_ignore\"><div class=\"entities\" style=\"line-height: 2.5; direction: ltr\">The proportion of the crop cycle that takes place in \n",
              "<mark class=\"entity\" style=\"background: #ddd; padding: 0.45em 0.6em; margin: 0 0.25em; line-height: 1; border-radius: 0.35em;\">\n",
              "    one year\n",
              "    <span style=\"font-size: 0.8em; font-weight: bold; line-height: 1; border-radius: 0.35em; vertical-align: middle; margin-left: 0.5rem\">AVERAGE ANNUAL CYCLE</span>\n",
              "</mark>\n",
              " The average actual annual yield taking into account the \n",
              "<mark class=\"entity\" style=\"background: #ddd; padding: 0.45em 0.6em; margin: 0 0.25em; line-height: 1; border-radius: 0.35em;\">\n",
              "    Energy or number of chews\n",
              "    <span style=\"font-size: 0.8em; font-weight: bold; line-height: 1; border-radius: 0.35em; vertical-align: middle; margin-left: 0.5rem\">QUALITY</span>\n",
              "</mark>\n",
              " necessary to chew the banana to make it ready to be swallowed \n",
              "<mark class=\"entity\" style=\"background: #ddd; padding: 0.45em 0.6em; margin: 0 0.25em; line-height: 1; border-radius: 0.35em;\">\n",
              "    Aroma of fresh grass\n",
              "    <span style=\"font-size: 0.8em; font-weight: bold; line-height: 1; border-radius: 0.35em; vertical-align: middle; margin-left: 0.5rem\">AROMA</span>\n",
              "</mark>\n",
              " Elemental flavor caused by dilute aqueous solutions of various substances such as \n",
              "<mark class=\"entity\" style=\"background: #ddd; padding: 0.45em 0.6em; margin: 0 0.25em; line-height: 1; border-radius: 0.35em;\">\n",
              "    sucrose or aspartame\n",
              "    <span style=\"font-size: 0.8em; font-weight: bold; line-height: 1; border-radius: 0.35em; vertical-align: middle; margin-left: 0.5rem\">TASTE</span>\n",
              "</mark>\n",
              " \n",
              "<mark class=\"entity\" style=\"background: #ddd; padding: 0.45em 0.6em; margin: 0 0.25em; line-height: 1; border-radius: 0.35em;\">\n",
              "    Uniformity of color\n",
              "    <span style=\"font-size: 0.8em; font-weight: bold; line-height: 1; border-radius: 0.35em; vertical-align: middle; margin-left: 0.5rem\">APPEARENCE</span>\n",
              "</mark>\n",
              " of the surface of the sample</div></span>"
            ]
          },
          "metadata": {}
        }
      ]
    },
    {
      "cell_type": "code",
      "source": [
        "doc = nlp_ner('The visual aspect of boiled potatoes: potatoes turn gray or dark after boiling')\n",
        "spacy.displacy.render(doc, style=\"ent\", jupyter=True) "
      ],
      "metadata": {
        "colab": {
          "base_uri": "https://localhost:8080/",
          "height": 52
        },
        "id": "4hvsH0CxhNwW",
        "outputId": "70d9f920-ce8d-4a7f-e196-7f8f670d9725"
      },
      "execution_count": null,
      "outputs": [
        {
          "output_type": "display_data",
          "data": {
            "text/plain": [
              "<IPython.core.display.HTML object>"
            ],
            "text/html": [
              "<span class=\"tex2jax_ignore\"><div class=\"entities\" style=\"line-height: 2.5; direction: ltr\">The visual aspect of boiled potatoes: potatoes turn \n",
              "<mark class=\"entity\" style=\"background: #ddd; padding: 0.45em 0.6em; margin: 0 0.25em; line-height: 1; border-radius: 0.35em;\">\n",
              "    gray or dark after\n",
              "    <span style=\"font-size: 0.8em; font-weight: bold; line-height: 1; border-radius: 0.35em; vertical-align: middle; margin-left: 0.5rem\">QUALITY</span>\n",
              "</mark>\n",
              " boiling</div></span>"
            ]
          },
          "metadata": {}
        }
      ]
    },
    {
      "cell_type": "code",
      "source": [
        "doc = nlp_ner('The tolerance to drought of the plant')\n",
        "spacy.displacy.render(doc, style=\"ent\", jupyter=True) "
      ],
      "metadata": {
        "colab": {
          "base_uri": "https://localhost:8080/",
          "height": 52
        },
        "id": "dfUxVvnlhmZN",
        "outputId": "5d70f1cf-f729-4c20-c1a8-1b90733b9269"
      },
      "execution_count": null,
      "outputs": [
        {
          "output_type": "display_data",
          "data": {
            "text/plain": [
              "<IPython.core.display.HTML object>"
            ],
            "text/html": [
              "<span class=\"tex2jax_ignore\"><div class=\"entities\" style=\"line-height: 2.5; direction: ltr\">The \n",
              "<mark class=\"entity\" style=\"background: #ddd; padding: 0.45em 0.6em; margin: 0 0.25em; line-height: 1; border-radius: 0.35em;\">\n",
              "    tolerance to\n",
              "    <span style=\"font-size: 0.8em; font-weight: bold; line-height: 1; border-radius: 0.35em; vertical-align: middle; margin-left: 0.5rem\">ABIOTIC STRESS</span>\n",
              "</mark>\n",
              " drought of the plant</div></span>"
            ]
          },
          "metadata": {}
        }
      ]
    },
    {
      "cell_type": "code",
      "source": [
        "doc = nlp_ner('Cooked carrot amaranth and beet root sweetpotato, cassava, and balugu climbing yam Gustatory sensation that remains The content of carbohydrate in the seed.')\n",
        "spacy.displacy.render(doc, style=\"ent\", jupyter=True)"
      ],
      "metadata": {
        "colab": {
          "base_uri": "https://localhost:8080/",
          "height": 87
        },
        "id": "JrT_Kv0Whvj9",
        "outputId": "9207c762-25b1-4446-acdf-7420334c0e2c"
      },
      "execution_count": null,
      "outputs": [
        {
          "output_type": "display_data",
          "data": {
            "text/plain": [
              "<IPython.core.display.HTML object>"
            ],
            "text/html": [
              "<span class=\"tex2jax_ignore\"><div class=\"entities\" style=\"line-height: 2.5; direction: ltr\">Cooked \n",
              "<mark class=\"entity\" style=\"background: #ddd; padding: 0.45em 0.6em; margin: 0 0.25em; line-height: 1; border-radius: 0.35em;\">\n",
              "    carrot amaranth and beet root sweetpotato, cassava, and balugu climbing\n",
              "    <span style=\"font-size: 0.8em; font-weight: bold; line-height: 1; border-radius: 0.35em; vertical-align: middle; margin-left: 0.5rem\">AROMA</span>\n",
              "</mark>\n",
              " yam Gustatory sensation that remains The \n",
              "<mark class=\"entity\" style=\"background: #ddd; padding: 0.45em 0.6em; margin: 0 0.25em; line-height: 1; border-radius: 0.35em;\">\n",
              "    content of\n",
              "    <span style=\"font-size: 0.8em; font-weight: bold; line-height: 1; border-radius: 0.35em; vertical-align: middle; margin-left: 0.5rem\">QUALITY</span>\n",
              "</mark>\n",
              " carbohydrate in the seed.</div></span>"
            ]
          },
          "metadata": {}
        }
      ]
    },
    {
      "cell_type": "markdown",
      "source": [
        "## Probability of ner predicted by model"
      ],
      "metadata": {
        "id": "OJowtrQFlcHS"
      }
    },
    {
      "cell_type": "code",
      "source": [
        "import spacy\n",
        "from collections import defaultdict\n",
        "\n",
        "texts = ['The proportion of the crop cycle that takes place in one year The average actual annual yield taking into account the Energy or number of chews necessary to chew the banana to make it ready to be swallowed Aroma of fresh grass Elemental flavor caused by dilute aqueous solutions of various substances such as sucrose or aspartame Uniformity of color of the surface of the sample']\n",
        "\n",
        "beam_width = 16\n",
        "beam_density = 0.0001 \n",
        "nlp_ner = spacy.load(\"/content/model-best\") \n",
        "\n",
        "\n",
        "docs = list(nlp.pipe(texts, disable=['ner']))\n",
        "beams = nlp.get_pipe(\"ner\").beam_parse(docs, beam_width=beam_width, beam_density=beam_density)\n",
        "\n",
        "for doc, beam in zip(docs, beams):\n",
        "    entity_scores = defaultdict(float)\n",
        "    for score, ents in nlp.get_pipe(\"ner\").moves.get_beam_parses(beam):\n",
        "        for start, end, label in ents:\n",
        "            entity_scores[(start, end, label)] += score\n",
        "\n",
        "l= []\n",
        "for k, v in entity_scores.items():\n",
        "    l.append({'start': k[0], 'end': k[1], 'label': k[2], 'prob' : v} )\n",
        "\n",
        "for a in sorted(l, key= lambda x: x['start']):\n",
        "    print(a)\n",
        "    \n",
        "'''\n",
        "Based on model probability score it can be easily predicted that model is overfitted beacuse of less training data \n",
        "\n",
        "'''\n"
      ],
      "metadata": {
        "colab": {
          "base_uri": "https://localhost:8080/"
        },
        "id": "Mi2HniLhihRb",
        "outputId": "d3de7049-a021-40df-f3dc-09e52bd3cc17"
      },
      "execution_count": null,
      "outputs": [
        {
          "output_type": "stream",
          "name": "stdout",
          "text": [
            "{'start': 10, 'end': 12, 'label': 'AVERAGE ANNUAL CYCLE', 'prob': 1.0}\n",
            "{'start': 21, 'end': 26, 'label': 'QUALITY', 'prob': 1.0}\n",
            "{'start': 38, 'end': 42, 'label': 'AROMA', 'prob': 1.0}\n",
            "{'start': 54, 'end': 57, 'label': 'TASTE', 'prob': 1.0}\n",
            "{'start': 57, 'end': 60, 'label': 'APPEARENCE', 'prob': 1.0}\n"
          ]
        }
      ]
    },
    {
      "cell_type": "code",
      "source": [],
      "metadata": {
        "id": "tcwCeF5fkxtC"
      },
      "execution_count": null,
      "outputs": []
    }
  ]
}